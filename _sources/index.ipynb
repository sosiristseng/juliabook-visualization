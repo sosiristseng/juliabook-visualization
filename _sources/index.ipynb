{
 "cells": [
  {
   "cell_type": "markdown",
   "metadata": {},
   "source": [
    "# Julia visualization\n",
    "\n",
    "- [Plots.jl](https://github.com/JuliaPlots/Plots.jl): powerful and convenient visualization mwith ultiple backends. See also [Plots.jl docs](http://docs.juliaplots.org/latest/)\n",
    "- [PyPlot.jl](https://github.com/JuliaPy/PyPlot.jl): `matplotlib` in Julia. See also [matplotlib docs](https://matplotlib.org/stable/index.html)\n",
    "- [Makie.jl](https://github.com/JuliaPlots/Makie.jl): a data visualization ecosystem for the Julia programming language, with high performance and extensibility. See also [Makie.jl docs](https://makie.juliaplots.org/stable/tutorials/)"
   ]
  },
  {
   "cell_type": "markdown",
   "metadata": {},
   "source": [
    "## Runtime information"
   ]
  },
  {
   "cell_type": "code",
   "execution_count": 1,
   "metadata": {
    "execution": {
     "iopub.execute_input": "2022-08-01T02:02:37.065000Z",
     "iopub.status.busy": "2022-08-01T02:02:36.639000Z",
     "iopub.status.idle": "2022-08-01T02:02:38.054000Z",
     "shell.execute_reply": "2022-08-01T02:02:37.986000Z"
    }
   },
   "outputs": [
    {
     "name": "stdout",
     "output_type": "stream",
     "text": [
      "Julia Version 1.7.3\n",
      "Commit 742b9abb4d (2022-05-06 12:58 UTC)\n",
      "Platform Info:\n",
      "  OS: Linux (x86_64-pc-linux-gnu)\n",
      "  CPU: AMD EPYC 7B13\n",
      "  WORD_SIZE: 64\n",
      "  LIBM: libopenlibm\n",
      "  LLVM: libLLVM-12.0.1 (ORCJIT, znver3)\n",
      "Environment:\n",
      "  JULIA_PATH = /usr/local/julia/\n"
     ]
    }
   ],
   "source": [
    "versioninfo()"
   ]
  },
  {
   "cell_type": "code",
   "execution_count": 2,
   "metadata": {
    "execution": {
     "iopub.execute_input": "2022-08-01T02:02:38.079000Z",
     "iopub.status.busy": "2022-08-01T02:02:38.078000Z",
     "iopub.status.idle": "2022-08-01T02:02:39.832000Z",
     "shell.execute_reply": "2022-08-01T02:02:39.832000Z"
    }
   },
   "outputs": [
    {
     "name": "stdout",
     "output_type": "stream",
     "text": [
      "\u001b[32m\u001b[1m      Status\u001b[22m\u001b[39m `/tmp/cirrus-ci-build/Project.toml`\n",
      " \u001b[90m [35d6a980] \u001b[39mColorSchemes v3.19.0\n",
      " \u001b[90m [31c24e10] \u001b[39mDistributions v0.25.66\n",
      " \u001b[90m [b964fa9f] \u001b[39mLaTeXStrings v1.3.0\n",
      " \u001b[90m [442fdcdd] \u001b[39mMeasures v0.3.1\n",
      " \u001b[90m [91a5bcdd] \u001b[39mPlots v1.31.5\n",
      " \u001b[90m [438e738f] \u001b[39mPyCall v1.93.1\n",
      " \u001b[90m [d330b81b] \u001b[39mPyPlot v2.10.0\n",
      " \u001b[90m [276daf66] \u001b[39mSpecialFunctions v2.1.7\n",
      " \u001b[90m [2913bbd2] \u001b[39mStatsBase v0.33.20\n",
      " \u001b[90m [f3b207a7] \u001b[39mStatsPlots v0.15.0\n",
      " \u001b[90m [37e2e46d] \u001b[39mLinearAlgebra\n",
      " \u001b[90m [10745b16] \u001b[39mStatistics\n"
     ]
    }
   ],
   "source": [
    "using Pkg\n",
    "Pkg.status()"
   ]
  }
 ],
 "metadata": {
  "kernelspec": {
   "display_name": "Julia 1.7.3",
   "language": "julia",
   "name": "julia-1.7"
  },
  "language_info": {
   "file_extension": ".jl",
   "mimetype": "application/julia",
   "name": "julia",
   "version": "1.7.3"
  }
 },
 "nbformat": 4,
 "nbformat_minor": 2
}
